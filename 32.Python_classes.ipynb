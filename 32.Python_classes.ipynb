{
 "cells": [
  {
   "cell_type": "code",
   "execution_count": 1,
   "id": "32c61abd",
   "metadata": {},
   "outputs": [
    {
     "name": "stdout",
     "output_type": "stream",
     "text": [
      "68\n"
     ]
    }
   ],
   "source": [
    "#python classes\n",
    "class Abhi: #class creation\n",
    "  a=68\n",
    "obj = Abhi() #object creation\n",
    "print(obj.a)"
   ]
  },
  {
   "cell_type": "code",
   "execution_count": 2,
   "id": "2472aa12",
   "metadata": {},
   "outputs": [
    {
     "name": "stdout",
     "output_type": "stream",
     "text": [
      "Name: Abhishek\n",
      "Subject: Maths\n",
      "Roll number: 68\n"
     ]
    }
   ],
   "source": [
    "#creation of class with classname student\n",
    "class Student:\n",
    "    #class variables \n",
    "    roll_no=68\n",
    "    name=\"Abhishek\"\n",
    "    subject=\"Maths\"\n",
    "obj=Student() #object of student class called\n",
    "print(\"Name:\",obj.name)\n",
    "print(\"Subject:\",obj.subject)\n",
    "print(\"Roll number:\",obj.roll_no)"
   ]
  },
  {
   "cell_type": "code",
   "execution_count": 3,
   "id": "e99e7e50",
   "metadata": {},
   "outputs": [
    {
     "name": "stdout",
     "output_type": "stream",
     "text": [
      "Car name: Swift\n",
      "Color: Black\n",
      "Car name: Lamborghini\n",
      "Color: Green\n"
     ]
    }
   ],
   "source": [
    "#class creation using _init_ method\n",
    "class Cars:  #class cars\n",
    "    color=\"Black\"    #class variable\n",
    "    def __init__(self,car):   #__init__method\n",
    "    \tself.car=car    \n",
    "    def display(self):\n",
    "    \tprint(\"Car name:\",self.car)   #displaying carname and color\n",
    "    \tprint(\"Color:\",self.color)\n",
    "obj1=Cars(\"Swift\") #object creation of Cars class\n",
    "obj1.display()\n",
    "obj2=Cars(\"Lamborghini\")\n",
    "obj2.color=\"Green\"  #changing class variable color to Green\n",
    "obj2.display()\n",
    "\t"
   ]
  },
  {
   "cell_type": "code",
   "execution_count": 4,
   "id": "e4c799a1",
   "metadata": {},
   "outputs": [
    {
     "name": "stdout",
     "output_type": "stream",
     "text": [
      "Abhi is studying Science\n"
     ]
    }
   ],
   "source": [
    "##Use of inheritance in class (child class inheriting properties of parent class)\n",
    "class Parent:\n",
    "    def __init__(self ,name,subject):\n",
    "        self.name=name \n",
    "        self.subject=subject \n",
    "    def display (self):\n",
    "        print(self.name,\"is studying\",self.subject)\n",
    "        \n",
    " \t\n",
    "class Child(Parent):\n",
    "    pass\n",
    "a= Child(\"Abhi\",\"Science\")\n",
    "a.display()\n",
    "         \n",
    "\t"
   ]
  },
  {
   "cell_type": "code",
   "execution_count": null,
   "id": "8b74db90",
   "metadata": {},
   "outputs": [],
   "source": []
  }
 ],
 "metadata": {
  "kernelspec": {
   "display_name": "Python 3 (ipykernel)",
   "language": "python",
   "name": "python3"
  },
  "language_info": {
   "codemirror_mode": {
    "name": "ipython",
    "version": 3
   },
   "file_extension": ".py",
   "mimetype": "text/x-python",
   "name": "python",
   "nbconvert_exporter": "python",
   "pygments_lexer": "ipython3",
   "version": "3.9.7"
  }
 },
 "nbformat": 4,
 "nbformat_minor": 5
}
