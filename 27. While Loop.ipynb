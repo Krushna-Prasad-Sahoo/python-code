{
 "cells": [
  {
   "cell_type": "code",
   "execution_count": 1,
   "id": "5d2a3a62",
   "metadata": {},
   "outputs": [],
   "source": [
    "# while loop in python is used to iterate over a block of code as long as the condition is true"
   ]
  },
  {
   "cell_type": "markdown",
   "id": "88e5d472",
   "metadata": {},
   "source": [
    "### infinite loop by while"
   ]
  },
  {
   "cell_type": "raw",
   "id": "1e7f06f7",
   "metadata": {},
   "source": [
    "while True :\n",
    "    print(\"Infinite Loop\")"
   ]
  },
  {
   "cell_type": "code",
   "execution_count": 14,
   "id": "4566f650",
   "metadata": {},
   "outputs": [
    {
     "name": "stdout",
     "output_type": "stream",
     "text": [
      "6\n",
      "sum value : 1 & the value of i : 2\n",
      "sum value : 3 & the value of i : 3\n",
      "sum value : 6 & the value of i : 4\n",
      "sum value : 10 & the value of i : 5\n",
      "sum value : 15 & the value of i : 6\n",
      "sum value : 21 & the value of i : 7\n",
      "The final sum is : 21\n"
     ]
    }
   ],
   "source": [
    "n = int(input())\n",
    "\n",
    "sum = 0\n",
    "i = 1\n",
    "\n",
    "while i <= n :\n",
    "    sum = sum + i\n",
    "    i += 1\n",
    "    print(\"sum value :\", sum , \"& the value of i :\", i)\n",
    "\n",
    "print(\"The final sum is :\" , sum)"
   ]
  },
  {
   "cell_type": "code",
   "execution_count": 12,
   "id": "f25149e1",
   "metadata": {},
   "outputs": [
    {
     "data": {
      "text/plain": [
       "21"
      ]
     },
     "execution_count": 12,
     "metadata": {},
     "output_type": "execute_result"
    }
   ],
   "source": [
    "1 + 2 + 3 + 4 + 5 + 6"
   ]
  },
  {
   "cell_type": "markdown",
   "id": "d1113005",
   "metadata": {},
   "source": [
    "## HW : using while loop calculate factorial of a number ...."
   ]
  }
 ],
 "metadata": {
  "kernelspec": {
   "display_name": "Python 3",
   "language": "python",
   "name": "python3"
  },
  "language_info": {
   "codemirror_mode": {
    "name": "ipython",
    "version": 3
   },
   "file_extension": ".py",
   "mimetype": "text/x-python",
   "name": "python",
   "nbconvert_exporter": "python",
   "pygments_lexer": "ipython3",
   "version": "3.8.8"
  }
 },
 "nbformat": 4,
 "nbformat_minor": 5
}
