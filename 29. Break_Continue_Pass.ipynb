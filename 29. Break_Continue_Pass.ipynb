{
 "cells": [
  {
   "cell_type": "markdown",
   "id": "ba68396a",
   "metadata": {},
   "source": [
    "### break clause : breaks the loop immediately"
   ]
  },
  {
   "cell_type": "code",
   "execution_count": 3,
   "id": "4dfb9125",
   "metadata": {},
   "outputs": [
    {
     "name": "stdout",
     "output_type": "stream",
     "text": [
      "1\n"
     ]
    }
   ],
   "source": [
    "for i in range(1, 6):\n",
    "    print(i)\n",
    "    break"
   ]
  },
  {
   "cell_type": "code",
   "execution_count": 5,
   "id": "d3e325d1",
   "metadata": {},
   "outputs": [
    {
     "name": "stdout",
     "output_type": "stream",
     "text": [
      "1\n",
      "2\n"
     ]
    }
   ],
   "source": [
    "for i in range(1, 7) :\n",
    "    if i == 3:\n",
    "        break\n",
    "    else :\n",
    "        print(i)"
   ]
  },
  {
   "cell_type": "code",
   "execution_count": 7,
   "id": "45341791",
   "metadata": {},
   "outputs": [
    {
     "name": "stdout",
     "output_type": "stream",
     "text": [
      "Enter A number : 1\n",
      "You have entered  1\n",
      "Enter A number : -9\n",
      "You have entered  -9\n",
      "Enter A number : 0\n",
      "You have entered Zero\n"
     ]
    }
   ],
   "source": [
    "while True :\n",
    "    num = int(input(\"Enter A number : \"))\n",
    "    if num == 0 :\n",
    "        print(\"You have entered Zero\")\n",
    "        break\n",
    "    else :\n",
    "        print(\"You have entered \", num)"
   ]
  },
  {
   "cell_type": "markdown",
   "id": "0f8a56ed",
   "metadata": {},
   "source": [
    "### continue Clause : skips the rest statements for that corresponding iteration & continues to the next loop"
   ]
  },
  {
   "cell_type": "code",
   "execution_count": 13,
   "id": "f2025a46",
   "metadata": {},
   "outputs": [
    {
     "name": "stdout",
     "output_type": "stream",
     "text": [
      "-4\n",
      "3\n",
      "3\n",
      "-88\n",
      "-1\n",
      "0\n",
      "0\n"
     ]
    }
   ],
   "source": [
    "for i in range(5):\n",
    "    num = int(input())\n",
    "    \n",
    "    if num < 0:\n",
    "        continue\n",
    "        print(\"hii\")\n",
    "    else : \n",
    "        print(num)"
   ]
  },
  {
   "cell_type": "code",
   "execution_count": 15,
   "id": "d8332782",
   "metadata": {},
   "outputs": [
    {
     "name": "stdout",
     "output_type": "stream",
     "text": [
      "I will eat  apple\n",
      "I will eat  guava\n",
      "I will eat  orange\n",
      "I will eat  mango\n"
     ]
    }
   ],
   "source": [
    "a = [\"apple\", \"banana\", \"guava\", \"orange\", \"mango\"]\n",
    "\n",
    "for i in a:\n",
    "    \n",
    "    if i == \"banana\" :\n",
    "        continue\n",
    "        print(\"T don't like\")\n",
    "    else :\n",
    "        print(\"I will eat \", i)"
   ]
  },
  {
   "cell_type": "markdown",
   "id": "05f46c44",
   "metadata": {},
   "source": [
    "### pass : null statement ; it does nothing"
   ]
  },
  {
   "cell_type": "code",
   "execution_count": 18,
   "id": "17cbaca6",
   "metadata": {},
   "outputs": [],
   "source": [
    "for i in [1, 2, 3, 4, 5] :\n",
    "    pass"
   ]
  },
  {
   "cell_type": "code",
   "execution_count": 20,
   "id": "a62b3a37",
   "metadata": {},
   "outputs": [],
   "source": [
    "if 4 > 1:\n",
    "    pass"
   ]
  },
  {
   "cell_type": "code",
   "execution_count": null,
   "id": "a04d1840",
   "metadata": {},
   "outputs": [],
   "source": []
  }
 ],
 "metadata": {
  "kernelspec": {
   "display_name": "Python 3",
   "language": "python",
   "name": "python3"
  },
  "language_info": {
   "codemirror_mode": {
    "name": "ipython",
    "version": 3
   },
   "file_extension": ".py",
   "mimetype": "text/x-python",
   "name": "python",
   "nbconvert_exporter": "python",
   "pygments_lexer": "ipython3",
   "version": "3.8.8"
  }
 },
 "nbformat": 4,
 "nbformat_minor": 5
}
