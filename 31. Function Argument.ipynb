{
 "cells": [
  {
   "cell_type": "raw",
   "id": "86ee9d14",
   "metadata": {},
   "source": [
    "Argument ?\n",
    "when we call the function - > may require t pass some data -> arg"
   ]
  },
  {
   "cell_type": "code",
   "execution_count": 1,
   "id": "08022f39",
   "metadata": {},
   "outputs": [],
   "source": [
    "def morning():\n",
    "    print(\"Good Morning !!\")"
   ]
  },
  {
   "cell_type": "code",
   "execution_count": 2,
   "id": "47fccead",
   "metadata": {},
   "outputs": [
    {
     "name": "stdout",
     "output_type": "stream",
     "text": [
      "Good Morning !!\n"
     ]
    }
   ],
   "source": [
    "morning()"
   ]
  },
  {
   "cell_type": "code",
   "execution_count": 3,
   "id": "8a4df4a6",
   "metadata": {},
   "outputs": [
    {
     "ename": "TypeError",
     "evalue": "morning() takes 0 positional arguments but 1 was given",
     "output_type": "error",
     "traceback": [
      "\u001b[1;31m---------------------------------------------------------------------------\u001b[0m",
      "\u001b[1;31mTypeError\u001b[0m                                 Traceback (most recent call last)",
      "\u001b[1;32m<ipython-input-3-f225f4193864>\u001b[0m in \u001b[0;36m<module>\u001b[1;34m\u001b[0m\n\u001b[1;32m----> 1\u001b[1;33m \u001b[0mmorning\u001b[0m\u001b[1;33m(\u001b[0m\u001b[1;34m\"KP\"\u001b[0m\u001b[1;33m)\u001b[0m\u001b[1;33m\u001b[0m\u001b[1;33m\u001b[0m\u001b[0m\n\u001b[0m",
      "\u001b[1;31mTypeError\u001b[0m: morning() takes 0 positional arguments but 1 was given"
     ]
    }
   ],
   "source": [
    "morning(\"KP\")"
   ]
  },
  {
   "cell_type": "code",
   "execution_count": 4,
   "id": "36d5bb2b",
   "metadata": {},
   "outputs": [],
   "source": [
    "def morning(myname):\n",
    "    print(\"Good Morning\", myname, \"!!\")"
   ]
  },
  {
   "cell_type": "code",
   "execution_count": 5,
   "id": "85152fa2",
   "metadata": {},
   "outputs": [
    {
     "name": "stdout",
     "output_type": "stream",
     "text": [
      "Good Morning KP !!\n"
     ]
    }
   ],
   "source": [
    "morning(\"KP\")"
   ]
  },
  {
   "cell_type": "code",
   "execution_count": 6,
   "id": "5f5efc14",
   "metadata": {},
   "outputs": [
    {
     "name": "stdout",
     "output_type": "stream",
     "text": [
      "Good Morning Rahul !!\n"
     ]
    }
   ],
   "source": [
    "morning(\"Rahul\")"
   ]
  },
  {
   "cell_type": "code",
   "execution_count": 7,
   "id": "506e7f74",
   "metadata": {},
   "outputs": [
    {
     "name": "stdout",
     "output_type": "stream",
     "text": [
      "What is your name ? python\n",
      "Good Morning python !!\n"
     ]
    }
   ],
   "source": [
    "name = input(\"What is your name ? \")\n",
    "morning(name)"
   ]
  },
  {
   "cell_type": "markdown",
   "id": "2dfa4800",
   "metadata": {},
   "source": [
    "multiple arg"
   ]
  },
  {
   "cell_type": "code",
   "execution_count": 8,
   "id": "c5ff42e1",
   "metadata": {},
   "outputs": [],
   "source": [
    "def add(a, b, c):\n",
    "    print(a + b + c)"
   ]
  },
  {
   "cell_type": "code",
   "execution_count": 9,
   "id": "56655111",
   "metadata": {},
   "outputs": [
    {
     "name": "stdout",
     "output_type": "stream",
     "text": [
      "12\n"
     ]
    }
   ],
   "source": [
    "add(3, 4, 5)"
   ]
  },
  {
   "cell_type": "code",
   "execution_count": 10,
   "id": "b6f90120",
   "metadata": {},
   "outputs": [
    {
     "name": "stdout",
     "output_type": "stream",
     "text": [
      "192\n"
     ]
    }
   ],
   "source": [
    "def mul(a, b, c):\n",
    "    print(a * b * c)\n",
    "    \n",
    "mul(4, 6, 8)"
   ]
  },
  {
   "cell_type": "markdown",
   "id": "faab2aa3",
   "metadata": {},
   "source": [
    "print  vs  return"
   ]
  },
  {
   "cell_type": "code",
   "execution_count": 18,
   "id": "d704fcf4",
   "metadata": {},
   "outputs": [
    {
     "name": "stdout",
     "output_type": "stream",
     "text": [
      "200\n",
      "None\n"
     ]
    }
   ],
   "source": [
    "def mul(a, b, c):\n",
    "    print(a * b * c)\n",
    "    \n",
    "result = mul(1, 10, 20)\n",
    "\n",
    "print(result)"
   ]
  },
  {
   "cell_type": "code",
   "execution_count": 15,
   "id": "510f7b5a",
   "metadata": {},
   "outputs": [],
   "source": [
    "def mul(a, b, c):\n",
    "    return(a * b * c)\n",
    "\n",
    "result = mul(1, 10, 20)\n",
    "print(result)"
   ]
  }
 ],
 "metadata": {
  "kernelspec": {
   "display_name": "Python 3",
   "language": "python",
   "name": "python3"
  },
  "language_info": {
   "codemirror_mode": {
    "name": "ipython",
    "version": 3
   },
   "file_extension": ".py",
   "mimetype": "text/x-python",
   "name": "python",
   "nbconvert_exporter": "python",
   "pygments_lexer": "ipython3",
   "version": "3.8.8"
  }
 },
 "nbformat": 4,
 "nbformat_minor": 5
}
