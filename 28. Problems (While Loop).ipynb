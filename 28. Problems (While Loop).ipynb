{
 "cells": [
  {
   "cell_type": "markdown",
   "id": "081611c2",
   "metadata": {},
   "source": [
    "Factorial of 5 =  5! = 5 * 4 * 3 * 2 * 1 = 120"
   ]
  },
  {
   "cell_type": "code",
   "execution_count": 12,
   "id": "ba1ba13b",
   "metadata": {},
   "outputs": [
    {
     "name": "stdout",
     "output_type": "stream",
     "text": [
      "Enter the number : 8\n",
      "The factorial is :  40320\n"
     ]
    }
   ],
   "source": [
    "num = int(input(\"Enter the number : \"))\n",
    "\n",
    "fact = 1\n",
    "i = 1\n",
    "\n",
    "while i <= num :\n",
    "    fact *= i\n",
    "#    print(\"The value of i in this iteration is \", i)\n",
    "#    print(\"------------------------------\")\n",
    "#    print(\"The value of fact in this iteration is\", fact)\n",
    "    i += 1\n",
    "    \n",
    "\n",
    "print(\"The factorial is : \", fact)"
   ]
  },
  {
   "cell_type": "code",
   "execution_count": 13,
   "id": "08cfe8c7",
   "metadata": {},
   "outputs": [
    {
     "data": {
      "text/plain": [
       "40320"
      ]
     },
     "execution_count": 13,
     "metadata": {},
     "output_type": "execute_result"
    }
   ],
   "source": [
    "1 *2 *3 *4 *5 *6 *7 *8 "
   ]
  },
  {
   "cell_type": "markdown",
   "id": "55862831",
   "metadata": {},
   "source": [
    "### 2nd problem"
   ]
  },
  {
   "cell_type": "raw",
   "id": "42bd3d37",
   "metadata": {},
   "source": [
    "### the program will keep on taking user inputs until user gives a -ve number\n",
    "### on providing a -ve number the program terminates & gives output :\n",
    "                                            how many numbers --> count\n",
    "                                            give average"
   ]
  },
  {
   "cell_type": "code",
   "execution_count": 21,
   "id": "ced246ec",
   "metadata": {},
   "outputs": [
    {
     "name": "stdout",
     "output_type": "stream",
     "text": [
      "Enter Your Number : 1\n",
      "Enter Your Number : 2\n",
      "Enter Your Number : 3\n",
      "Enter Your Number : 4\n",
      "Enter Your Number : 5\n",
      "Enter Your Number : -1\n",
      "You have entered 6 numbers & the average value is :  2.3333333333333335\n"
     ]
    }
   ],
   "source": [
    "summ = 0\n",
    "count = 0\n",
    "num = 0\n",
    "\n",
    "while num >= 0:\n",
    "    num = int(input(\"Enter Your Number : \"))\n",
    "    count += 1\n",
    "    summ += num\n",
    "    \n",
    "avg = summ / count\n",
    "print(\"You have entered\", count, \"numbers & the average value is : \", avg)"
   ]
  }
 ],
 "metadata": {
  "kernelspec": {
   "display_name": "Python 3",
   "language": "python",
   "name": "python3"
  },
  "language_info": {
   "codemirror_mode": {
    "name": "ipython",
    "version": 3
   },
   "file_extension": ".py",
   "mimetype": "text/x-python",
   "name": "python",
   "nbconvert_exporter": "python",
   "pygments_lexer": "ipython3",
   "version": "3.8.8"
  }
 },
 "nbformat": 4,
 "nbformat_minor": 5
}
