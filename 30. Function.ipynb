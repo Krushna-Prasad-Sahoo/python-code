{
 "cells": [
  {
   "cell_type": "markdown",
   "id": "f4834912",
   "metadata": {},
   "source": [
    "function = is a group of related statements that performs specific task"
   ]
  },
  {
   "cell_type": "raw",
   "id": "962567a7",
   "metadata": {},
   "source": [
    "1. declare or define a function\n",
    "2. invoking or calling a function \n",
    "\n",
    "a function has 2 parts : heading & body"
   ]
  },
  {
   "cell_type": "code",
   "execution_count": 1,
   "id": "8c9355ce",
   "metadata": {},
   "outputs": [],
   "source": [
    "def morning():\n",
    "    print(\"Good Morning !!\")"
   ]
  },
  {
   "cell_type": "code",
   "execution_count": 2,
   "id": "52ae3f7b",
   "metadata": {},
   "outputs": [
    {
     "name": "stdout",
     "output_type": "stream",
     "text": [
      "Good Morning !!\n"
     ]
    }
   ],
   "source": [
    "morning()"
   ]
  },
  {
   "cell_type": "raw",
   "id": "f24c9094",
   "metadata": {},
   "source": [
    "2 types of funtions :\n",
    "    user defined\n",
    "    built-in"
   ]
  },
  {
   "cell_type": "code",
   "execution_count": 17,
   "id": "2b01269c",
   "metadata": {},
   "outputs": [
    {
     "name": "stdout",
     "output_type": "stream",
     "text": [
      "What's the time (in 24 hrs format) : 24\n",
      "Good Night !!\n"
     ]
    }
   ],
   "source": [
    "n = int(input(\"What's the time (in 24 hrs format) : \"))\n",
    "\n",
    "def morning():\n",
    "    print(\"Good Morning !!\")\n",
    "\n",
    "def afternoon():\n",
    "    print(\"Good afternoon !!\")\n",
    "    \n",
    "def evening():\n",
    "    print(\"Good Evening !!\")\n",
    "\n",
    "def night():\n",
    "    print(\"Good Night !!\")\n",
    "    \n",
    "#-----------------------------------------------------------\n",
    "\n",
    "if n > 24:\n",
    "    print(\"You have entered wrong time :( \")\n",
    "elif n >= 5 and n < 12 :\n",
    "    morning()\n",
    "elif n >= 12 and n < 16 :\n",
    "    afternoon()\n",
    "elif n >= 16 and n < 20 :\n",
    "    evening()\n",
    "else :\n",
    "    night()"
   ]
  },
  {
   "cell_type": "code",
   "execution_count": 18,
   "id": "ceb39465",
   "metadata": {},
   "outputs": [],
   "source": [
    "def greetings():\n",
    "\n",
    "    n = int(input(\"What's the time (in 24 hrs format) : \"))\n",
    "\n",
    "    def morning():\n",
    "        print(\"Good Morning !!\")\n",
    "\n",
    "    def afternoon():\n",
    "        print(\"Good afternoon !!\")\n",
    "\n",
    "    def evening():\n",
    "        print(\"Good Evening !!\")\n",
    "\n",
    "    def night():\n",
    "        print(\"Good Night !!\")\n",
    "\n",
    "    #-----------------------------------------------------------\n",
    "\n",
    "    if n > 24:\n",
    "        print(\"You have entered wrong time :( \")\n",
    "    elif n >= 5 and n < 12 :\n",
    "        morning()\n",
    "    elif n >= 12 and n < 16 :\n",
    "        afternoon()\n",
    "    elif n >= 16 and n < 20 :\n",
    "        evening()\n",
    "    else :\n",
    "        night()"
   ]
  },
  {
   "cell_type": "code",
   "execution_count": null,
   "id": "f2513a0a",
   "metadata": {},
   "outputs": [],
   "source": []
  },
  {
   "cell_type": "code",
   "execution_count": null,
   "id": "b7f7a7c5",
   "metadata": {},
   "outputs": [],
   "source": []
  },
  {
   "cell_type": "code",
   "execution_count": null,
   "id": "0937ea43",
   "metadata": {},
   "outputs": [],
   "source": []
  },
  {
   "cell_type": "code",
   "execution_count": null,
   "id": "1858ba00",
   "metadata": {},
   "outputs": [],
   "source": []
  },
  {
   "cell_type": "code",
   "execution_count": null,
   "id": "0d4ca336",
   "metadata": {},
   "outputs": [],
   "source": []
  },
  {
   "cell_type": "code",
   "execution_count": 19,
   "id": "bc4cc211",
   "metadata": {},
   "outputs": [
    {
     "name": "stdout",
     "output_type": "stream",
     "text": [
      "What's the time (in 24 hrs format) : 56\n",
      "You have entered wrong time :( \n"
     ]
    }
   ],
   "source": [
    "greetings()"
   ]
  },
  {
   "cell_type": "code",
   "execution_count": 20,
   "id": "283fa42a",
   "metadata": {},
   "outputs": [
    {
     "name": "stdout",
     "output_type": "stream",
     "text": [
      "What's the time (in 24 hrs format) : 22\n",
      "Good Night !!\n"
     ]
    }
   ],
   "source": [
    "greetings()"
   ]
  },
  {
   "cell_type": "code",
   "execution_count": null,
   "id": "8c2fdc42",
   "metadata": {},
   "outputs": [],
   "source": []
  },
  {
   "cell_type": "code",
   "execution_count": null,
   "id": "953ae9db",
   "metadata": {},
   "outputs": [],
   "source": []
  }
 ],
 "metadata": {
  "kernelspec": {
   "display_name": "Python 3",
   "language": "python",
   "name": "python3"
  },
  "language_info": {
   "codemirror_mode": {
    "name": "ipython",
    "version": 3
   },
   "file_extension": ".py",
   "mimetype": "text/x-python",
   "name": "python",
   "nbconvert_exporter": "python",
   "pygments_lexer": "ipython3",
   "version": "3.8.8"
  }
 },
 "nbformat": 4,
 "nbformat_minor": 5
}
